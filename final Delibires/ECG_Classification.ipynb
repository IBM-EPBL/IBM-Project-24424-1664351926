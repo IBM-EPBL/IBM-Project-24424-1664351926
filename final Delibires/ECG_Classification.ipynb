{
 "cells": [
  {
   "cell_type": "code",
   "execution_count": 1,
   "metadata": {},
   "outputs": [],
   "source": [
    "import numpy as np\n",
    "import matplotlib.pyplot as plt \n",
    "import tensorflow as tf\n",
    "import os\n",
    "import cv2\n",
    "import numpy as np\n"
   ]
  },
  {
   "cell_type": "code",
   "execution_count": 2,
   "metadata": {},
   "outputs": [],
   "source": [
    "import keras\n",
    "from keras.layers import (Activation, BatchNormalization, Conv2D, Dense,\n",
    "                          Dropout, Flatten, MaxPooling2D)\n",
    "from tensorflow.keras.models import Sequential\n",
    "from tensorflow.keras.layers import Convolution2D,MaxPool2D,Flatten,Dense\n",
    "from tensorflow.keras.preprocessing.image import ImageDataGenerator"
   ]
  },
  {
   "cell_type": "markdown",
   "metadata": {},
   "source": [
    "# Preprocessing DATA"
   ]
  },
  {
   "cell_type": "code",
   "execution_count": 3,
   "metadata": {},
   "outputs": [],
   "source": [
    "train_datagen=ImageDataGenerator(rescale=1./255,shear_range=0.2,zoom_range=0.2,horizontal_flip=True,vertical_flip=True)"
   ]
  },
  {
   "cell_type": "code",
   "execution_count": 4,
   "metadata": {},
   "outputs": [],
   "source": [
    "test_datagen=ImageDataGenerator(rescale=1./255)"
   ]
  },
  {
   "cell_type": "code",
   "execution_count": 6,
   "metadata": {},
   "outputs": [
    {
     "name": "stdout",
     "output_type": "stream",
     "text": [
      "Found 15341 images belonging to 6 classes.\n"
     ]
    }
   ],
   "source": [
    "x_train=train_datagen.flow_from_directory('data/train',target_size=(64,64),batch_size=32,class_mode='categorical')"
   ]
  },
  {
   "cell_type": "code",
   "execution_count": 7,
   "metadata": {},
   "outputs": [
    {
     "name": "stdout",
     "output_type": "stream",
     "text": [
      "Found 6825 images belonging to 6 classes.\n"
     ]
    }
   ],
   "source": [
    "x_test=test_datagen.flow_from_directory('data/test',target_size=(64,64),batch_size=32,class_mode='categorical')"
   ]
  },
  {
   "cell_type": "code",
   "execution_count": 8,
   "metadata": {},
   "outputs": [
    {
     "data": {
      "text/plain": [
       "{'Left Bundle Branch Block': 0,\n",
       " 'Normal': 1,\n",
       " 'Premature Atrial Contraction': 2,\n",
       " 'Premature Ventricular Contractions': 3,\n",
       " 'Right Bundle Branch Block': 4,\n",
       " 'Ventricular Fibrillation': 5}"
      ]
     },
     "execution_count": 8,
     "metadata": {},
     "output_type": "execute_result"
    }
   ],
   "source": [
    "x_train.class_indices"
   ]
  },
  {
   "cell_type": "code",
   "execution_count": 9,
   "metadata": {},
   "outputs": [
    {
     "data": {
      "text/plain": [
       "{'Left Bundle Branch Block': 0,\n",
       " 'Normal': 1,\n",
       " 'Premature Atrial Contraction': 2,\n",
       " 'Premature Ventricular Contractions': 3,\n",
       " 'Right Bundle Branch Block': 4,\n",
       " 'Ventricular Fibrillation': 5}"
      ]
     },
     "execution_count": 9,
     "metadata": {},
     "output_type": "execute_result"
    }
   ],
   "source": [
    "x_test.class_indices"
   ]
  },
  {
   "cell_type": "code",
   "execution_count": 10,
   "metadata": {},
   "outputs": [],
   "source": [
    "model=Sequential()"
   ]
  },
  {
   "cell_type": "code",
   "execution_count": 11,
   "metadata": {},
   "outputs": [],
   "source": [
    "model.add(Convolution2D(32,(3,3),padding=\"same\",input_shape=(64,64,3),activation='relu'))\n",
    "model.add(MaxPool2D(pool_size=(2,2)))"
   ]
  },
  {
   "cell_type": "code",
   "execution_count": 12,
   "metadata": {},
   "outputs": [],
   "source": [
    "model.add(Convolution2D(32,(3,3),padding=\"same\",input_shape=(64,64,3),activation='relu'))\n",
    "model.add(MaxPool2D(pool_size=(2,2)))\n"
   ]
  },
  {
   "cell_type": "code",
   "execution_count": 13,
   "metadata": {},
   "outputs": [],
   "source": [
    "model.add(Convolution2D(32,(3,3),padding=\"same\",input_shape=(64,64,3),activation='relu'))\n",
    "model.add(MaxPool2D(pool_size=(2,2)))"
   ]
  },
  {
   "cell_type": "code",
   "execution_count": 14,
   "metadata": {},
   "outputs": [],
   "source": [
    "model.add(Flatten())#ANN INPUT"
   ]
  },
  {
   "cell_type": "code",
   "execution_count": 15,
   "metadata": {},
   "outputs": [],
   "source": [
    "model.add(Dense(units=128,kernel_initializer=tf.keras.initializers.RandomUniform(minval=-0.05, maxval=0.05, seed=None),activation=\"elu\"))\n",
    "model.add(BatchNormalization())\n",
    "model.add(Dropout(0.2))"
   ]
  },
  {
   "cell_type": "code",
   "execution_count": 16,
   "metadata": {},
   "outputs": [],
   "source": [
    "model.add(Dense(units=128,kernel_initializer=tf.keras.initializers.RandomUniform(minval=-0.05, maxval=0.05, seed=None),activation=\"elu\"))\n",
    "model.add(BatchNormalization())\n",
    "model.add(Dropout(0.2))"
   ]
  },
  {
   "cell_type": "code",
   "execution_count": 17,
   "metadata": {},
   "outputs": [],
   "source": [
    "model.add(Dense(units=64,kernel_initializer=tf.keras.initializers.RandomUniform(minval=-0.05, maxval=0.05, seed=None),activation=\"elu\"))\n",
    "model.add(Dropout(0.2))"
   ]
  },
  {
   "cell_type": "code",
   "execution_count": 18,
   "metadata": {},
   "outputs": [],
   "source": [
    "model.add(Dense(units=64,kernel_initializer=tf.keras.initializers.RandomUniform(minval=-0.05, maxval=0.05, seed=None),activation=\"elu\"))\n",
    "model.add(Dropout(0.2))"
   ]
  },
  {
   "cell_type": "markdown",
   "metadata": {},
   "source": [
    "# Adding output layer"
   ]
  },
  {
   "cell_type": "code",
   "execution_count": 19,
   "metadata": {},
   "outputs": [],
   "source": [
    "model.add(Dense(units=6,kernel_initializer=\"random_uniform\",activation=\"softmax\"))"
   ]
  },
  {
   "cell_type": "code",
   "execution_count": 20,
   "metadata": {},
   "outputs": [
    {
     "name": "stdout",
     "output_type": "stream",
     "text": [
      "Model: \"sequential\"\n",
      "_________________________________________________________________\n",
      "Layer (type)                 Output Shape              Param #   \n",
      "=================================================================\n",
      "conv2d (Conv2D)              (None, 64, 64, 32)        896       \n",
      "_________________________________________________________________\n",
      "max_pooling2d (MaxPooling2D) (None, 32, 32, 32)        0         \n",
      "_________________________________________________________________\n",
      "conv2d_1 (Conv2D)            (None, 32, 32, 32)        9248      \n",
      "_________________________________________________________________\n",
      "max_pooling2d_1 (MaxPooling2 (None, 16, 16, 32)        0         \n",
      "_________________________________________________________________\n",
      "conv2d_2 (Conv2D)            (None, 16, 16, 32)        9248      \n",
      "_________________________________________________________________\n",
      "max_pooling2d_2 (MaxPooling2 (None, 8, 8, 32)          0         \n",
      "_________________________________________________________________\n",
      "flatten (Flatten)            (None, 2048)              0         \n",
      "_________________________________________________________________\n",
      "dense (Dense)                (None, 128)               262272    \n",
      "_________________________________________________________________\n",
      "batch_normalization (BatchNo (None, 128)               512       \n",
      "_________________________________________________________________\n",
      "dropout (Dropout)            (None, 128)               0         \n",
      "_________________________________________________________________\n",
      "dense_1 (Dense)              (None, 128)               16512     \n",
      "_________________________________________________________________\n",
      "batch_normalization_1 (Batch (None, 128)               512       \n",
      "_________________________________________________________________\n",
      "dropout_1 (Dropout)          (None, 128)               0         \n",
      "_________________________________________________________________\n",
      "dense_2 (Dense)              (None, 64)                8256      \n",
      "_________________________________________________________________\n",
      "dropout_2 (Dropout)          (None, 64)                0         \n",
      "_________________________________________________________________\n",
      "dense_3 (Dense)              (None, 64)                4160      \n",
      "_________________________________________________________________\n",
      "dropout_3 (Dropout)          (None, 64)                0         \n",
      "_________________________________________________________________\n",
      "dense_4 (Dense)              (None, 6)                 390       \n",
      "=================================================================\n",
      "Total params: 312,006\n",
      "Trainable params: 311,494\n",
      "Non-trainable params: 512\n",
      "_________________________________________________________________\n"
     ]
    }
   ],
   "source": [
    "model.summary()"
   ]
  },
  {
   "cell_type": "code",
   "execution_count": 21,
   "metadata": {},
   "outputs": [],
   "source": [
    "from keras.optimizers import RMSprop , SGD , Adam\n",
    "from keras.callbacks import ModelCheckpoint , EarlyStopping , ReduceLROnPlateau"
   ]
  },
  {
   "cell_type": "markdown",
   "metadata": {},
   "source": [
    "# Train The Model"
   ]
  },
  {
   "cell_type": "code",
   "execution_count": 22,
   "metadata": {},
   "outputs": [],
   "source": [
    "\"\"\"\"\n",
    "##earlystop = EarlyStopping(monitor=\"val_loss\",\n",
    "                        min_delta=0,\n",
    "                        patience=1,\n",
    "                        restore_best_weights=True,\n",
    "                        verbose=1)\"\"\"\n",
    "reduce_lr = ReduceLROnPlateau(monitor=\"val_loss\",\n",
    "                             factor=0.2,\n",
    "                             patience=2,\n",
    "                             verbose=1,\n",
    "                             min_delta=0.0001)"
   ]
  },
  {
   "cell_type": "code",
   "execution_count": 23,
   "metadata": {},
   "outputs": [],
   "source": [
    "callbacks=[reduce_lr]\n",
    "model.compile(loss=\"categorical_crossentropy\",optimizer=Adam(lr=0.01,beta_1=0.1),metrics=['accuracy'])\n",
    "batch_size=3"
   ]
  },
  {
   "cell_type": "code",
   "execution_count": 24,
   "metadata": {},
   "outputs": [
    {
     "name": "stdout",
     "output_type": "stream",
     "text": [
      "WARNING:tensorflow:From <ipython-input-24-73ff1d6ee85d>:1: Model.fit_generator (from tensorflow.python.keras.engine.training) is deprecated and will be removed in a future version.\n",
      "Instructions for updating:\n",
      "Please use Model.fit, which supports generators.\n",
      "Epoch 1/25\n",
      "160/160 [==============================] - 15s 91ms/step - loss: 1.0046 - accuracy: 0.6531 - val_loss: 583.9680 - val_accuracy: 0.1156\n",
      "Epoch 2/25\n",
      "160/160 [==============================] - 15s 92ms/step - loss: 0.7331 - accuracy: 0.7654 - val_loss: 301.2160 - val_accuracy: 0.1000\n",
      "Epoch 3/25\n",
      "160/160 [==============================] - 14s 88ms/step - loss: 0.5730 - accuracy: 0.8122 - val_loss: 18.4302 - val_accuracy: 0.0344\n",
      "Epoch 4/25\n",
      "160/160 [==============================] - 14s 88ms/step - loss: 0.5220 - accuracy: 0.8299 - val_loss: 76.3400 - val_accuracy: 0.0406\n",
      "Epoch 5/25\n",
      "160/160 [==============================] - 14s 90ms/step - loss: 0.5005 - accuracy: 0.8392 - val_loss: 11.5284 - val_accuracy: 0.1969\n",
      "Epoch 6/25\n",
      "160/160 [==============================] - 14s 88ms/step - loss: 0.4508 - accuracy: 0.8567 - val_loss: 52.7344 - val_accuracy: 0.1688\n",
      "Epoch 7/25\n",
      "160/160 [==============================] - ETA: 0s - loss: 0.4477 - accuracy: 0.8609\n",
      "Epoch 00007: ReduceLROnPlateau reducing learning rate to 0.0019999999552965165.\n",
      "160/160 [==============================] - 13s 84ms/step - loss: 0.4477 - accuracy: 0.8609 - val_loss: 366.6426 - val_accuracy: 0.1500\n",
      "Epoch 8/25\n",
      "160/160 [==============================] - 13s 82ms/step - loss: 0.4034 - accuracy: 0.8681 - val_loss: 68.7612 - val_accuracy: 0.0281\n",
      "Epoch 9/25\n",
      "160/160 [==============================] - ETA: 0s - loss: 0.3506 - accuracy: 0.8881\n",
      "Epoch 00009: ReduceLROnPlateau reducing learning rate to 0.0003999999724328518.\n",
      "160/160 [==============================] - 13s 84ms/step - loss: 0.3506 - accuracy: 0.8881 - val_loss: 14.9037 - val_accuracy: 0.1531\n",
      "Epoch 10/25\n",
      "160/160 [==============================] - 16s 100ms/step - loss: 0.3591 - accuracy: 0.8828 - val_loss: 17.6400 - val_accuracy: 0.3719\n",
      "Epoch 11/25\n",
      "160/160 [==============================] - ETA: 0s - loss: 0.3310 - accuracy: 0.8945\n",
      "Epoch 00011: ReduceLROnPlateau reducing learning rate to 7.999999215826393e-05.\n",
      "160/160 [==============================] - 15s 91ms/step - loss: 0.3310 - accuracy: 0.8945 - val_loss: 13.6573 - val_accuracy: 0.2937\n",
      "Epoch 12/25\n",
      "160/160 [==============================] - 15s 94ms/step - loss: 0.3284 - accuracy: 0.8957 - val_loss: 5.6170 - val_accuracy: 0.3875\n",
      "Epoch 13/25\n",
      "160/160 [==============================] - 14s 90ms/step - loss: 0.3150 - accuracy: 0.8979 - val_loss: 1.7408 - val_accuracy: 0.4969\n",
      "Epoch 14/25\n",
      "160/160 [==============================] - 14s 88ms/step - loss: 0.3257 - accuracy: 0.8943 - val_loss: 1.4967 - val_accuracy: 0.6562\n",
      "Epoch 15/25\n",
      "160/160 [==============================] - 13s 82ms/step - loss: 0.3058 - accuracy: 0.8969 - val_loss: 0.8023 - val_accuracy: 0.7781\n",
      "Epoch 16/25\n",
      "160/160 [==============================] - 14s 90ms/step - loss: 0.3054 - accuracy: 0.9002 - val_loss: 0.6109 - val_accuracy: 0.7875\n",
      "Epoch 17/25\n",
      "160/160 [==============================] - 14s 87ms/step - loss: 0.3178 - accuracy: 0.8992 - val_loss: 1.1473 - val_accuracy: 0.7469\n",
      "Epoch 18/25\n",
      "160/160 [==============================] - ETA: 0s - loss: 0.3210 - accuracy: 0.8922\n",
      "Epoch 00018: ReduceLROnPlateau reducing learning rate to 1.599999814061448e-05.\n",
      "160/160 [==============================] - 15s 95ms/step - loss: 0.3210 - accuracy: 0.8922 - val_loss: 2.0050 - val_accuracy: 0.5875\n",
      "Epoch 19/25\n",
      "160/160 [==============================] - 15s 94ms/step - loss: 0.3200 - accuracy: 0.8945 - val_loss: 0.6655 - val_accuracy: 0.8094\n",
      "Epoch 20/25\n",
      "160/160 [==============================] - 16s 99ms/step - loss: 0.3249 - accuracy: 0.8969 - val_loss: 0.4820 - val_accuracy: 0.8719\n",
      "Epoch 21/25\n",
      "160/160 [==============================] - 15s 95ms/step - loss: 0.3169 - accuracy: 0.8957 - val_loss: 0.5229 - val_accuracy: 0.8062\n",
      "Epoch 22/25\n",
      "160/160 [==============================] - ETA: 0s - loss: 0.3092 - accuracy: 0.9018\n",
      "Epoch 00022: ReduceLROnPlateau reducing learning rate to 3.199999628122896e-06.\n",
      "160/160 [==============================] - 14s 86ms/step - loss: 0.3092 - accuracy: 0.9018 - val_loss: 0.5812 - val_accuracy: 0.8062\n",
      "Epoch 23/25\n",
      "160/160 [==============================] - 14s 85ms/step - loss: 0.3250 - accuracy: 0.8961 - val_loss: 0.4740 - val_accuracy: 0.8531\n",
      "Epoch 24/25\n",
      "160/160 [==============================] - 13s 84ms/step - loss: 0.3265 - accuracy: 0.8957 - val_loss: 0.6086 - val_accuracy: 0.8313\n",
      "Epoch 25/25\n",
      "160/160 [==============================] - ETA: 0s - loss: 0.3166 - accuracy: 0.8949\n",
      "Epoch 00025: ReduceLROnPlateau reducing learning rate to 6.399999165296323e-07.\n",
      "160/160 [==============================] - 14s 86ms/step - loss: 0.3166 - accuracy: 0.8949 - val_loss: 0.6298 - val_accuracy: 0.8156\n"
     ]
    },
    {
     "data": {
      "text/plain": [
       "<tensorflow.python.keras.callbacks.History at 0x7ff5610249a0>"
      ]
     },
     "execution_count": 24,
     "metadata": {},
     "output_type": "execute_result"
    }
   ],
   "source": [
    "model.fit_generator(x_train,steps_per_epoch=len(x_train)/batch_size,epochs=25,callbacks=callbacks,validation_data=x_test,validation_steps=10)"
   ]
  },
  {
   "cell_type": "code",
   "execution_count": 38,
   "metadata": {},
   "outputs": [],
   "source": [
    "model_json = model.to_json()\n",
    "with open(\"model.json\", \"w\") as json_file:\n",
    "    json_file.write(model_json)\n",
    "# serialize weights to HDF5\n",
    "model.save_weights(\"ECG.h5\")"
   ]
  },
  {
   "cell_type": "code",
   "execution_count": 39,
   "metadata": {},
   "outputs": [],
   "source": [
    "from tensorflow.keras.models import load_model\n",
    "from tensorflow.keras.preprocessing import image"
   ]
  },
  {
   "cell_type": "markdown",
   "metadata": {},
   "source": [
    "# Testing Data"
   ]
  },
  {
   "cell_type": "code",
   "execution_count": 43,
   "metadata": {},
   "outputs": [],
   "source": [
    "model=load_model('ECG.h5')"
   ]
  },
  {
   "cell_type": "code",
   "execution_count": 44,
   "metadata": {},
   "outputs": [],
   "source": [
    "img=image.load_img(\"data/testing/test.png\",target_size=(64,64))"
   ]
  },
  {
   "cell_type": "code",
   "execution_count": 45,
   "metadata": {},
   "outputs": [],
   "source": [
    "x=image.img_to_array(img)"
   ]
  },
  {
   "cell_type": "code",
   "execution_count": 46,
   "metadata": {},
   "outputs": [
    {
     "data": {
      "image/png": "[encoded data removed]",
      "text/plain": [
       "<PIL.Image.Image image mode=RGB size=64x64 at 0x7FF560D79370>"
      ]
     },
     "execution_count": 46,
     "metadata": {},
     "output_type": "execute_result"
    }
   ],
   "source": [
    "img"
   ]
  },
  {
   "cell_type": "code",
   "execution_count": 47,
   "metadata": {},
   "outputs": [
    {
     "data": {
      "text/plain": [
       "(64, 64, 3)"
      ]
     },
     "execution_count": 47,
     "metadata": {},
     "output_type": "execute_result"
    }
   ],
   "source": [
    "x=image.img_to_array(img)\n",
    "x.shape"
   ]
  },
  {
   "cell_type": "code",
   "execution_count": 48,
   "metadata": {},
   "outputs": [
    {
     "data": {
      "text/plain": [
       "array([[[[255., 255., 255.],\n",
       "         [255., 255., 255.],\n",
       "         [255., 255., 255.],\n",
       "         ...,\n",
       "         [255., 255., 255.],\n",
       "         [255., 255., 255.],\n",
       "         [255., 255., 255.]],\n",
       "\n",
       "        [[255., 255., 255.],\n",
       "         [255., 255., 255.],\n",
       "         [255., 255., 255.],\n",
       "         ...,\n",
       "         [255., 255., 255.],\n",
       "         [255., 255., 255.],\n",
       "         [255., 255., 255.]],\n",
       "\n",
       "        [[255., 255., 255.],\n",
       "         [255., 255., 255.],\n",
       "         [255., 255., 255.],\n",
       "         ...,\n",
       "         [255., 255., 255.],\n",
       "         [255., 255., 255.],\n",
       "         [255., 255., 255.]],\n",
       "\n",
       "        ...,\n",
       "\n",
       "        [[255., 255., 255.],\n",
       "         [255., 255., 255.],\n",
       "         [255., 255., 255.],\n",
       "         ...,\n",
       "         [255., 255., 255.],\n",
       "         [255., 255., 255.],\n",
       "         [255., 255., 255.]],\n",
       "\n",
       "        [[255., 255., 255.],\n",
       "         [255., 255., 255.],\n",
       "         [255., 255., 255.],\n",
       "         ...,\n",
       "         [255., 255., 255.],\n",
       "         [255., 255., 255.],\n",
       "         [255., 255., 255.]],\n",
       "\n",
       "        [[255., 255., 255.],\n",
       "         [255., 255., 255.],\n",
       "         [255., 255., 255.],\n",
       "         ...,\n",
       "         [255., 255., 255.],\n",
       "         [255., 255., 255.],\n",
       "         [255., 255., 255.]]]], dtype=float32)"
      ]
     },
     "execution_count": 48,
     "metadata": {},
     "output_type": "execute_result"
    }
   ],
   "source": [
    "x=np.expand_dims(x,axis=0)\n",
    "x"
   ]
  },
  {
   "cell_type": "code",
   "execution_count": 49,
   "metadata": {},
   "outputs": [
    {
     "data": {
      "text/plain": [
       "3"
      ]
     },
     "execution_count": 49,
     "metadata": {},
     "output_type": "execute_result"
    }
   ],
   "source": [
    "pred=model.predict(x)\n",
    "y_pred=np.argmax(pred)\n",
    "y_pred"
   ]
  },
  {
   "cell_type": "code",
   "execution_count": 50,
   "metadata": {},
   "outputs": [],
   "source": [
    "index=['left Bundle Branch block',\n",
    "       'Ventricular Fibrillation',\n",
    "       'Premature Atrial Contraction',\n",
    "       'Premature Ventricular Contraction',\n",
    "       'Right Bundle Branch Block',\n",
    "       'Normal']"
   ]
  },
  {
   "cell_type": "code",
   "execution_count": 51,
   "metadata": {},
   "outputs": [
    {
     "data": {
      "text/plain": [
       "'Premature Ventricular Contraction'"
      ]
     },
     "execution_count": 51,
     "metadata": {},
     "output_type": "execute_result"
    }
   ],
   "source": [
    "result = str(index[y_pred])\n",
    "result"
   ]
  },
  {
   "cell_type": "code",
   "execution_count": null,
   "metadata": {},
   "outputs": [],
   "source": []
  },
  {
   "cell_type": "code",
   "execution_count": null,
   "metadata": {},
   "outputs": [],
   "source": []
  }
 ],
 "metadata": {
  "kernelspec": {
   "display_name": "Python 3",
   "language": "python",
   "name": "python3"
  },
  "language_info": {
   "codemirror_mode": {
    "name": "ipython",
    "version": 3
   },
   "file_extension": ".py",
   "mimetype": "text/x-python",
   "name": "python",
   "nbconvert_exporter": "python",
   "pygments_lexer": "ipython3",
   "version": "3.8.3"
  }
 },
 "nbformat": 4,
 "nbformat_minor": 4
}
